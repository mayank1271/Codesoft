{
 "cells": [
  {
   "cell_type": "code",
   "execution_count": 3,
   "id": "juvenile-premises",
   "metadata": {
    "_cell_guid": "b1076dfc-b9ad-4769-8c92-a6c4dae69d19",
    "_uuid": "8f2839f25d086af736a60e9eeb907d3b93b6e0e5",
    "execution": {
     "iopub.execute_input": "2021-05-20T04:39:49.783030Z",
     "iopub.status.busy": "2021-05-20T04:39:49.778969Z",
     "iopub.status.idle": "2021-05-20T04:39:49.840120Z",
     "shell.execute_reply": "2021-05-20T04:39:49.840622Z"
    },
    "papermill": {
     "duration": 0.093746,
     "end_time": "2021-05-20T04:39:49.840996",
     "exception": false,
     "start_time": "2021-05-20T04:39:49.747250",
     "status": "completed"
    },
    "tags": []
   },
   "outputs": [
    {
     "data": {
      "text/html": [
       "<div>\n",
       "<style scoped>\n",
       "    .dataframe tbody tr th:only-of-type {\n",
       "        vertical-align: middle;\n",
       "    }\n",
       "\n",
       "    .dataframe tbody tr th {\n",
       "        vertical-align: top;\n",
       "    }\n",
       "\n",
       "    .dataframe thead th {\n",
       "        text-align: right;\n",
       "    }\n",
       "</style>\n",
       "<table border=\"1\" class=\"dataframe\">\n",
       "  <thead>\n",
       "    <tr style=\"text-align: right;\">\n",
       "      <th></th>\n",
       "      <th>PassengerId</th>\n",
       "      <th>Survived</th>\n",
       "      <th>Pclass</th>\n",
       "      <th>Name</th>\n",
       "      <th>Sex</th>\n",
       "      <th>Age</th>\n",
       "      <th>SibSp</th>\n",
       "      <th>Parch</th>\n",
       "      <th>Ticket</th>\n",
       "      <th>Fare</th>\n",
       "      <th>Cabin</th>\n",
       "      <th>Embarked</th>\n",
       "    </tr>\n",
       "  </thead>\n",
       "  <tbody>\n",
       "    <tr>\n",
       "      <th>0</th>\n",
       "      <td>892</td>\n",
       "      <td>0</td>\n",
       "      <td>3</td>\n",
       "      <td>Kelly, Mr. James</td>\n",
       "      <td>male</td>\n",
       "      <td>34.5</td>\n",
       "      <td>0</td>\n",
       "      <td>0</td>\n",
       "      <td>330911</td>\n",
       "      <td>7.8292</td>\n",
       "      <td>NaN</td>\n",
       "      <td>Q</td>\n",
       "    </tr>\n",
       "    <tr>\n",
       "      <th>1</th>\n",
       "      <td>893</td>\n",
       "      <td>1</td>\n",
       "      <td>3</td>\n",
       "      <td>Wilkes, Mrs. James (Ellen Needs)</td>\n",
       "      <td>female</td>\n",
       "      <td>47.0</td>\n",
       "      <td>1</td>\n",
       "      <td>0</td>\n",
       "      <td>363272</td>\n",
       "      <td>7.0000</td>\n",
       "      <td>NaN</td>\n",
       "      <td>S</td>\n",
       "    </tr>\n",
       "    <tr>\n",
       "      <th>2</th>\n",
       "      <td>894</td>\n",
       "      <td>0</td>\n",
       "      <td>2</td>\n",
       "      <td>Myles, Mr. Thomas Francis</td>\n",
       "      <td>male</td>\n",
       "      <td>62.0</td>\n",
       "      <td>0</td>\n",
       "      <td>0</td>\n",
       "      <td>240276</td>\n",
       "      <td>9.6875</td>\n",
       "      <td>NaN</td>\n",
       "      <td>Q</td>\n",
       "    </tr>\n",
       "    <tr>\n",
       "      <th>3</th>\n",
       "      <td>895</td>\n",
       "      <td>0</td>\n",
       "      <td>3</td>\n",
       "      <td>Wirz, Mr. Albert</td>\n",
       "      <td>male</td>\n",
       "      <td>27.0</td>\n",
       "      <td>0</td>\n",
       "      <td>0</td>\n",
       "      <td>315154</td>\n",
       "      <td>8.6625</td>\n",
       "      <td>NaN</td>\n",
       "      <td>S</td>\n",
       "    </tr>\n",
       "    <tr>\n",
       "      <th>4</th>\n",
       "      <td>896</td>\n",
       "      <td>1</td>\n",
       "      <td>3</td>\n",
       "      <td>Hirvonen, Mrs. Alexander (Helga E Lindqvist)</td>\n",
       "      <td>female</td>\n",
       "      <td>22.0</td>\n",
       "      <td>1</td>\n",
       "      <td>1</td>\n",
       "      <td>3101298</td>\n",
       "      <td>12.2875</td>\n",
       "      <td>NaN</td>\n",
       "      <td>S</td>\n",
       "    </tr>\n",
       "  </tbody>\n",
       "</table>\n",
       "</div>"
      ],
      "text/plain": [
       "   PassengerId  Survived  Pclass  \\\n",
       "0          892         0       3   \n",
       "1          893         1       3   \n",
       "2          894         0       2   \n",
       "3          895         0       3   \n",
       "4          896         1       3   \n",
       "\n",
       "                                           Name     Sex   Age  SibSp  Parch  \\\n",
       "0                              Kelly, Mr. James    male  34.5      0      0   \n",
       "1              Wilkes, Mrs. James (Ellen Needs)  female  47.0      1      0   \n",
       "2                     Myles, Mr. Thomas Francis    male  62.0      0      0   \n",
       "3                              Wirz, Mr. Albert    male  27.0      0      0   \n",
       "4  Hirvonen, Mrs. Alexander (Helga E Lindqvist)  female  22.0      1      1   \n",
       "\n",
       "    Ticket     Fare Cabin Embarked  \n",
       "0   330911   7.8292   NaN        Q  \n",
       "1   363272   7.0000   NaN        S  \n",
       "2   240276   9.6875   NaN        Q  \n",
       "3   315154   8.6625   NaN        S  \n",
       "4  3101298  12.2875   NaN        S  "
      ]
     },
     "execution_count": 3,
     "metadata": {},
     "output_type": "execute_result"
    }
   ],
   "source": [
    "import pandas as pd\n",
    "df = pd.read_csv('tested.csv')\n",
    "df.head(5)"
   ]
  },
  {
   "cell_type": "code",
   "execution_count": 2,
   "id": "bulgarian-stone",
   "metadata": {
    "execution": {
     "iopub.execute_input": "2021-05-20T04:39:49.890260Z",
     "iopub.status.busy": "2021-05-20T04:39:49.889233Z",
     "iopub.status.idle": "2021-05-20T04:39:49.893791Z",
     "shell.execute_reply": "2021-05-20T04:39:49.894344Z"
    },
    "papermill": {
     "duration": 0.032225,
     "end_time": "2021-05-20T04:39:49.894545",
     "exception": false,
     "start_time": "2021-05-20T04:39:49.862320",
     "status": "completed"
    },
    "tags": []
   },
   "outputs": [
    {
     "data": {
      "text/plain": [
       "Index(['PassengerId', 'Survived', 'Pclass', 'Name', 'Sex', 'Age', 'SibSp',\n",
       "       'Parch', 'Ticket', 'Fare', 'Cabin', 'Embarked'],\n",
       "      dtype='object')"
      ]
     },
     "execution_count": 2,
     "metadata": {},
     "output_type": "execute_result"
    }
   ],
   "source": [
    "df.columns"
   ]
  },
  {
   "cell_type": "code",
   "execution_count": 3,
   "id": "extreme-intent",
   "metadata": {
    "execution": {
     "iopub.execute_input": "2021-05-20T04:39:49.945804Z",
     "iopub.status.busy": "2021-05-20T04:39:49.944878Z",
     "iopub.status.idle": "2021-05-20T04:39:49.950134Z",
     "shell.execute_reply": "2021-05-20T04:39:49.949549Z"
    },
    "papermill": {
     "duration": 0.034259,
     "end_time": "2021-05-20T04:39:49.950282",
     "exception": false,
     "start_time": "2021-05-20T04:39:49.916023",
     "status": "completed"
    },
    "tags": []
   },
   "outputs": [
    {
     "data": {
      "text/plain": [
       "PassengerId      int64\n",
       "Survived         int64\n",
       "Pclass           int64\n",
       "Name            object\n",
       "Sex             object\n",
       "Age            float64\n",
       "SibSp            int64\n",
       "Parch            int64\n",
       "Ticket          object\n",
       "Fare           float64\n",
       "Cabin           object\n",
       "Embarked        object\n",
       "dtype: object"
      ]
     },
     "execution_count": 3,
     "metadata": {},
     "output_type": "execute_result"
    }
   ],
   "source": [
    "df.dtypes"
   ]
  },
  {
   "cell_type": "code",
   "execution_count": 4,
   "id": "equipped-biodiversity",
   "metadata": {
    "execution": {
     "iopub.execute_input": "2021-05-20T04:39:50.002878Z",
     "iopub.status.busy": "2021-05-20T04:39:50.002014Z",
     "iopub.status.idle": "2021-05-20T04:39:50.006855Z",
     "shell.execute_reply": "2021-05-20T04:39:50.007362Z"
    },
    "papermill": {
     "duration": 0.035589,
     "end_time": "2021-05-20T04:39:50.007551",
     "exception": false,
     "start_time": "2021-05-20T04:39:49.971962",
     "status": "completed"
    },
    "tags": []
   },
   "outputs": [
    {
     "data": {
      "text/plain": [
       "PassengerId      0\n",
       "Survived         0\n",
       "Pclass           0\n",
       "Name             0\n",
       "Sex              0\n",
       "Age             86\n",
       "SibSp            0\n",
       "Parch            0\n",
       "Ticket           0\n",
       "Fare             1\n",
       "Cabin          327\n",
       "Embarked         0\n",
       "dtype: int64"
      ]
     },
     "execution_count": 4,
     "metadata": {},
     "output_type": "execute_result"
    }
   ],
   "source": [
    "df.isnull().sum()"
   ]
  },
  {
   "cell_type": "code",
   "execution_count": 5,
   "id": "recorded-rough",
   "metadata": {
    "execution": {
     "iopub.execute_input": "2021-05-20T04:39:50.058765Z",
     "iopub.status.busy": "2021-05-20T04:39:50.057798Z",
     "iopub.status.idle": "2021-05-20T04:39:50.062977Z",
     "shell.execute_reply": "2021-05-20T04:39:50.062339Z"
    },
    "papermill": {
     "duration": 0.033256,
     "end_time": "2021-05-20T04:39:50.063121",
     "exception": false,
     "start_time": "2021-05-20T04:39:50.029865",
     "status": "completed"
    },
    "tags": []
   },
   "outputs": [
    {
     "data": {
      "text/plain": [
       "(418, 12)"
      ]
     },
     "execution_count": 5,
     "metadata": {},
     "output_type": "execute_result"
    }
   ],
   "source": [
    "df.shape"
   ]
  },
  {
   "cell_type": "code",
   "execution_count": 6,
   "id": "upset-course",
   "metadata": {
    "execution": {
     "iopub.execute_input": "2021-05-20T04:39:50.118235Z",
     "iopub.status.busy": "2021-05-20T04:39:50.112197Z",
     "iopub.status.idle": "2021-05-20T04:39:50.152145Z",
     "shell.execute_reply": "2021-05-20T04:39:50.151533Z"
    },
    "papermill": {
     "duration": 0.066835,
     "end_time": "2021-05-20T04:39:50.152291",
     "exception": false,
     "start_time": "2021-05-20T04:39:50.085456",
     "status": "completed"
    },
    "tags": []
   },
   "outputs": [
    {
     "data": {
      "text/html": [
       "<div>\n",
       "<style scoped>\n",
       "    .dataframe tbody tr th:only-of-type {\n",
       "        vertical-align: middle;\n",
       "    }\n",
       "\n",
       "    .dataframe tbody tr th {\n",
       "        vertical-align: top;\n",
       "    }\n",
       "\n",
       "    .dataframe thead th {\n",
       "        text-align: right;\n",
       "    }\n",
       "</style>\n",
       "<table border=\"1\" class=\"dataframe\">\n",
       "  <thead>\n",
       "    <tr style=\"text-align: right;\">\n",
       "      <th></th>\n",
       "      <th>PassengerId</th>\n",
       "      <th>Survived</th>\n",
       "      <th>Pclass</th>\n",
       "      <th>Age</th>\n",
       "      <th>SibSp</th>\n",
       "      <th>Parch</th>\n",
       "      <th>Fare</th>\n",
       "    </tr>\n",
       "  </thead>\n",
       "  <tbody>\n",
       "    <tr>\n",
       "      <th>count</th>\n",
       "      <td>418.000000</td>\n",
       "      <td>418.000000</td>\n",
       "      <td>418.000000</td>\n",
       "      <td>332.000000</td>\n",
       "      <td>418.000000</td>\n",
       "      <td>418.000000</td>\n",
       "      <td>417.000000</td>\n",
       "    </tr>\n",
       "    <tr>\n",
       "      <th>mean</th>\n",
       "      <td>1100.500000</td>\n",
       "      <td>0.363636</td>\n",
       "      <td>2.265550</td>\n",
       "      <td>30.272590</td>\n",
       "      <td>0.447368</td>\n",
       "      <td>0.392344</td>\n",
       "      <td>35.627188</td>\n",
       "    </tr>\n",
       "    <tr>\n",
       "      <th>std</th>\n",
       "      <td>120.810458</td>\n",
       "      <td>0.481622</td>\n",
       "      <td>0.841838</td>\n",
       "      <td>14.181209</td>\n",
       "      <td>0.896760</td>\n",
       "      <td>0.981429</td>\n",
       "      <td>55.907576</td>\n",
       "    </tr>\n",
       "    <tr>\n",
       "      <th>min</th>\n",
       "      <td>892.000000</td>\n",
       "      <td>0.000000</td>\n",
       "      <td>1.000000</td>\n",
       "      <td>0.170000</td>\n",
       "      <td>0.000000</td>\n",
       "      <td>0.000000</td>\n",
       "      <td>0.000000</td>\n",
       "    </tr>\n",
       "    <tr>\n",
       "      <th>25%</th>\n",
       "      <td>996.250000</td>\n",
       "      <td>0.000000</td>\n",
       "      <td>1.000000</td>\n",
       "      <td>21.000000</td>\n",
       "      <td>0.000000</td>\n",
       "      <td>0.000000</td>\n",
       "      <td>7.895800</td>\n",
       "    </tr>\n",
       "    <tr>\n",
       "      <th>50%</th>\n",
       "      <td>1100.500000</td>\n",
       "      <td>0.000000</td>\n",
       "      <td>3.000000</td>\n",
       "      <td>27.000000</td>\n",
       "      <td>0.000000</td>\n",
       "      <td>0.000000</td>\n",
       "      <td>14.454200</td>\n",
       "    </tr>\n",
       "    <tr>\n",
       "      <th>75%</th>\n",
       "      <td>1204.750000</td>\n",
       "      <td>1.000000</td>\n",
       "      <td>3.000000</td>\n",
       "      <td>39.000000</td>\n",
       "      <td>1.000000</td>\n",
       "      <td>0.000000</td>\n",
       "      <td>31.500000</td>\n",
       "    </tr>\n",
       "    <tr>\n",
       "      <th>max</th>\n",
       "      <td>1309.000000</td>\n",
       "      <td>1.000000</td>\n",
       "      <td>3.000000</td>\n",
       "      <td>76.000000</td>\n",
       "      <td>8.000000</td>\n",
       "      <td>9.000000</td>\n",
       "      <td>512.329200</td>\n",
       "    </tr>\n",
       "  </tbody>\n",
       "</table>\n",
       "</div>"
      ],
      "text/plain": [
       "       PassengerId    Survived      Pclass         Age       SibSp  \\\n",
       "count   418.000000  418.000000  418.000000  332.000000  418.000000   \n",
       "mean   1100.500000    0.363636    2.265550   30.272590    0.447368   \n",
       "std     120.810458    0.481622    0.841838   14.181209    0.896760   \n",
       "min     892.000000    0.000000    1.000000    0.170000    0.000000   \n",
       "25%     996.250000    0.000000    1.000000   21.000000    0.000000   \n",
       "50%    1100.500000    0.000000    3.000000   27.000000    0.000000   \n",
       "75%    1204.750000    1.000000    3.000000   39.000000    1.000000   \n",
       "max    1309.000000    1.000000    3.000000   76.000000    8.000000   \n",
       "\n",
       "            Parch        Fare  \n",
       "count  418.000000  417.000000  \n",
       "mean     0.392344   35.627188  \n",
       "std      0.981429   55.907576  \n",
       "min      0.000000    0.000000  \n",
       "25%      0.000000    7.895800  \n",
       "50%      0.000000   14.454200  \n",
       "75%      0.000000   31.500000  \n",
       "max      9.000000  512.329200  "
      ]
     },
     "execution_count": 6,
     "metadata": {},
     "output_type": "execute_result"
    }
   ],
   "source": [
    "df.describe()"
   ]
  },
  {
   "cell_type": "code",
   "execution_count": 7,
   "id": "patient-joseph",
   "metadata": {
    "execution": {
     "iopub.execute_input": "2021-05-20T04:39:50.208647Z",
     "iopub.status.busy": "2021-05-20T04:39:50.207930Z",
     "iopub.status.idle": "2021-05-20T04:39:50.212596Z",
     "shell.execute_reply": "2021-05-20T04:39:50.212077Z"
    },
    "papermill": {
     "duration": 0.037421,
     "end_time": "2021-05-20T04:39:50.212736",
     "exception": false,
     "start_time": "2021-05-20T04:39:50.175315",
     "status": "completed"
    },
    "tags": []
   },
   "outputs": [
    {
     "data": {
      "text/plain": [
       "0    266\n",
       "1    152\n",
       "Name: Survived, dtype: int64"
      ]
     },
     "execution_count": 7,
     "metadata": {},
     "output_type": "execute_result"
    }
   ],
   "source": [
    "df['Survived'].value_counts()"
   ]
  },
  {
   "cell_type": "code",
   "execution_count": 8,
   "id": "considered-hartford",
   "metadata": {
    "execution": {
     "iopub.execute_input": "2021-05-20T04:39:50.265962Z",
     "iopub.status.busy": "2021-05-20T04:39:50.265268Z",
     "iopub.status.idle": "2021-05-20T04:39:51.366319Z",
     "shell.execute_reply": "2021-05-20T04:39:51.365702Z"
    },
    "papermill": {
     "duration": 1.130143,
     "end_time": "2021-05-20T04:39:51.366485",
     "exception": false,
     "start_time": "2021-05-20T04:39:50.236342",
     "status": "completed"
    },
    "tags": []
   },
   "outputs": [
    {
     "name": "stderr",
     "output_type": "stream",
     "text": [
      "/opt/conda/lib/python3.7/site-packages/seaborn/_decorators.py:43: FutureWarning: Pass the following variable as a keyword arg: x. From version 0.12, the only valid positional argument will be `data`, and passing other arguments without an explicit keyword will result in an error or misinterpretation.\n",
      "  FutureWarning\n"
     ]
    },
    {
     "data": {
      "text/plain": [
       "<AxesSubplot:xlabel='Survived', ylabel='count'>"
      ]
     },
     "execution_count": 8,
     "metadata": {},
     "output_type": "execute_result"
    },
    {
     "data": {
      "image/png": "[encoded data removed]",
      "text/plain": [
       "<Figure size 432x288 with 1 Axes>"
      ]
     },
     "metadata": {
      "needs_background": "light"
     },
     "output_type": "display_data"
    }
   ],
   "source": [
    "#visualization \n",
    "from matplotlib import pyplot as plt\n",
    "import seaborn as sns\n",
    "sns.countplot(df['Survived'])"
   ]
  },
  {
   "cell_type": "code",
   "execution_count": 9,
   "id": "useful-cartridge",
   "metadata": {
    "execution": {
     "iopub.execute_input": "2021-05-20T04:39:51.425088Z",
     "iopub.status.busy": "2021-05-20T04:39:51.424417Z",
     "iopub.status.idle": "2021-05-20T04:39:51.531654Z",
     "shell.execute_reply": "2021-05-20T04:39:51.532150Z"
    },
    "papermill": {
     "duration": 0.140199,
     "end_time": "2021-05-20T04:39:51.532347",
     "exception": false,
     "start_time": "2021-05-20T04:39:51.392148",
     "status": "completed"
    },
    "tags": []
   },
   "outputs": [
    {
     "name": "stderr",
     "output_type": "stream",
     "text": [
      "/opt/conda/lib/python3.7/site-packages/seaborn/_decorators.py:43: FutureWarning: Pass the following variable as a keyword arg: x. From version 0.12, the only valid positional argument will be `data`, and passing other arguments without an explicit keyword will result in an error or misinterpretation.\n",
      "  FutureWarning\n"
     ]
    },
    {
     "data": {
      "text/plain": [
       "<AxesSubplot:xlabel='Pclass', ylabel='count'>"
      ]
     },
     "execution_count": 9,
     "metadata": {},
     "output_type": "execute_result"
    },
    {
     "data": {
      "image/png": "[encoded data removed]",
      "text/plain": [
       "<Figure size 432x288 with 1 Axes>"
      ]
     },
     "metadata": {
      "needs_background": "light"
     },
     "output_type": "display_data"
    }
   ],
   "source": [
    "sns.countplot(df['Pclass'])"
   ]
  },
  {
   "cell_type": "code",
   "execution_count": 10,
   "id": "skilled-cause",
   "metadata": {
    "execution": {
     "iopub.execute_input": "2021-05-20T04:39:51.588455Z",
     "iopub.status.busy": "2021-05-20T04:39:51.587860Z",
     "iopub.status.idle": "2021-05-20T04:39:51.731548Z",
     "shell.execute_reply": "2021-05-20T04:39:51.732068Z"
    },
    "papermill": {
     "duration": 0.173232,
     "end_time": "2021-05-20T04:39:51.732245",
     "exception": false,
     "start_time": "2021-05-20T04:39:51.559013",
     "status": "completed"
    },
    "tags": []
   },
   "outputs": [
    {
     "data": {
      "text/plain": [
       "<AxesSubplot:xlabel='Survived', ylabel='count'>"
      ]
     },
     "execution_count": 10,
     "metadata": {},
     "output_type": "execute_result"
    },
    {
     "data": {
      "image/png": "[encoded data removed]",
      "text/plain": [
       "<Figure size 432x288 with 1 Axes>"
      ]
     },
     "metadata": {
      "needs_background": "light"
     },
     "output_type": "display_data"
    }
   ],
   "source": [
    "sns.countplot(x = 'Survived', hue = 'Sex', data = df)"
   ]
  },
  {
   "cell_type": "code",
   "execution_count": 11,
   "id": "super-failure",
   "metadata": {
    "execution": {
     "iopub.execute_input": "2021-05-20T04:39:51.793909Z",
     "iopub.status.busy": "2021-05-20T04:39:51.793255Z",
     "iopub.status.idle": "2021-05-20T04:39:51.969039Z",
     "shell.execute_reply": "2021-05-20T04:39:51.969556Z"
    },
    "papermill": {
     "duration": 0.210119,
     "end_time": "2021-05-20T04:39:51.969741",
     "exception": false,
     "start_time": "2021-05-20T04:39:51.759622",
     "status": "completed"
    },
    "tags": []
   },
   "outputs": [
    {
     "data": {
      "text/plain": [
       "<AxesSubplot:xlabel='Survived', ylabel='count'>"
      ]
     },
     "execution_count": 11,
     "metadata": {},
     "output_type": "execute_result"
    },
    {
     "data": {
      "image/png": "[encoded data removed]",
      "text/plain": [
       "<Figure size 432x288 with 1 Axes>"
      ]
     },
     "metadata": {
      "needs_background": "light"
     },
     "output_type": "display_data"
    }
   ],
   "source": [
    "sns.countplot(x = \"Survived\", hue = 'Pclass', data =df)"
   ]
  },
  {
   "cell_type": "code",
   "execution_count": 12,
   "id": "instrumental-variable",
   "metadata": {
    "execution": {
     "iopub.execute_input": "2021-05-20T04:39:52.031130Z",
     "iopub.status.busy": "2021-05-20T04:39:52.030460Z",
     "iopub.status.idle": "2021-05-20T04:39:52.194721Z",
     "shell.execute_reply": "2021-05-20T04:39:52.195209Z"
    },
    "papermill": {
     "duration": 0.196263,
     "end_time": "2021-05-20T04:39:52.195388",
     "exception": false,
     "start_time": "2021-05-20T04:39:51.999125",
     "status": "completed"
    },
    "tags": []
   },
   "outputs": [
    {
     "data": {
      "text/plain": [
       "<AxesSubplot:xlabel='Sex', ylabel='Pclass'>"
      ]
     },
     "execution_count": 12,
     "metadata": {},
     "output_type": "execute_result"
    },
    {
     "data": {
      "image/png": "[encoded data removed]",
      "text/plain": [
       "<Figure size 720x504 with 1 Axes>"
      ]
     },
     "metadata": {
      "needs_background": "light"
     },
     "output_type": "display_data"
    }
   ],
   "source": [
    "plt.figure(figsize=(10,7))\n",
    "sns.boxplot(x = 'Sex', y = 'Pclass', data = df)"
   ]
  },
  {
   "cell_type": "code",
   "execution_count": 13,
   "id": "imported-bosnia",
   "metadata": {
    "execution": {
     "iopub.execute_input": "2021-05-20T04:39:52.260529Z",
     "iopub.status.busy": "2021-05-20T04:39:52.259876Z",
     "iopub.status.idle": "2021-05-20T04:39:53.589333Z",
     "shell.execute_reply": "2021-05-20T04:39:53.589790Z"
    },
    "papermill": {
     "duration": 1.364181,
     "end_time": "2021-05-20T04:39:53.589999",
     "exception": false,
     "start_time": "2021-05-20T04:39:52.225818",
     "status": "completed"
    },
    "tags": []
   },
   "outputs": [
    {
     "name": "stderr",
     "output_type": "stream",
     "text": [
      "/opt/conda/lib/python3.7/site-packages/pandas/plotting/_matplotlib/tools.py:400: MatplotlibDeprecationWarning: \n",
      "The is_first_col function was deprecated in Matplotlib 3.4 and will be removed two minor releases later. Use ax.get_subplotspec().is_first_col() instead.\n",
      "  if ax.is_first_col():\n"
     ]
    },
    {
     "data": {
      "image/png": "[encoded data removed]",
      "text/plain": [
       "<Figure size 1080x1080 with 9 Axes>"
      ]
     },
     "metadata": {
      "needs_background": "light"
     },
     "output_type": "display_data"
    }
   ],
   "source": [
    "hist = df.hist(figsize = (15,15))"
   ]
  },
  {
   "cell_type": "code",
   "execution_count": 14,
   "id": "heard-scientist",
   "metadata": {
    "execution": {
     "iopub.execute_input": "2021-05-20T04:39:53.656600Z",
     "iopub.status.busy": "2021-05-20T04:39:53.655662Z",
     "iopub.status.idle": "2021-05-20T04:39:53.671915Z",
     "shell.execute_reply": "2021-05-20T04:39:53.671284Z"
    },
    "papermill": {
     "duration": 0.050718,
     "end_time": "2021-05-20T04:39:53.672077",
     "exception": false,
     "start_time": "2021-05-20T04:39:53.621359",
     "status": "completed"
    },
    "tags": []
   },
   "outputs": [
    {
     "name": "stdout",
     "output_type": "stream",
     "text": [
      "<class 'pandas.core.frame.DataFrame'>\n",
      "RangeIndex: 418 entries, 0 to 417\n",
      "Data columns (total 12 columns):\n",
      " #   Column       Non-Null Count  Dtype  \n",
      "---  ------       --------------  -----  \n",
      " 0   PassengerId  418 non-null    int64  \n",
      " 1   Survived     418 non-null    int64  \n",
      " 2   Pclass       418 non-null    int64  \n",
      " 3   Name         418 non-null    object \n",
      " 4   Sex          418 non-null    object \n",
      " 5   Age          332 non-null    float64\n",
      " 6   SibSp        418 non-null    int64  \n",
      " 7   Parch        418 non-null    int64  \n",
      " 8   Ticket       418 non-null    object \n",
      " 9   Fare         417 non-null    float64\n",
      " 10  Cabin        91 non-null     object \n",
      " 11  Embarked     418 non-null    object \n",
      "dtypes: float64(2), int64(5), object(5)\n",
      "memory usage: 39.3+ KB\n"
     ]
    }
   ],
   "source": [
    "df.info()"
   ]
  },
  {
   "cell_type": "code",
   "execution_count": 15,
   "id": "broad-adjustment",
   "metadata": {
    "execution": {
     "iopub.execute_input": "2021-05-20T04:39:53.743381Z",
     "iopub.status.busy": "2021-05-20T04:39:53.742685Z",
     "iopub.status.idle": "2021-05-20T04:39:53.746820Z",
     "shell.execute_reply": "2021-05-20T04:39:53.746170Z"
    },
    "papermill": {
     "duration": 0.043029,
     "end_time": "2021-05-20T04:39:53.746994",
     "exception": false,
     "start_time": "2021-05-20T04:39:53.703965",
     "status": "completed"
    },
    "tags": []
   },
   "outputs": [],
   "source": [
    "df = df.drop(['Name','PassengerId', 'Ticket', 'Fare', 'Cabin'], axis =1)"
   ]
  },
  {
   "cell_type": "code",
   "execution_count": 16,
   "id": "naval-glance",
   "metadata": {
    "execution": {
     "iopub.execute_input": "2021-05-20T04:39:53.822784Z",
     "iopub.status.busy": "2021-05-20T04:39:53.822064Z",
     "iopub.status.idle": "2021-05-20T04:39:53.830614Z",
     "shell.execute_reply": "2021-05-20T04:39:53.831136Z"
    },
    "papermill": {
     "duration": 0.050092,
     "end_time": "2021-05-20T04:39:53.831311",
     "exception": false,
     "start_time": "2021-05-20T04:39:53.781219",
     "status": "completed"
    },
    "tags": []
   },
   "outputs": [
    {
     "data": {
      "text/html": [
       "<div>\n",
       "<style scoped>\n",
       "    .dataframe tbody tr th:only-of-type {\n",
       "        vertical-align: middle;\n",
       "    }\n",
       "\n",
       "    .dataframe tbody tr th {\n",
       "        vertical-align: top;\n",
       "    }\n",
       "\n",
       "    .dataframe thead th {\n",
       "        text-align: right;\n",
       "    }\n",
       "</style>\n",
       "<table border=\"1\" class=\"dataframe\">\n",
       "  <thead>\n",
       "    <tr style=\"text-align: right;\">\n",
       "      <th></th>\n",
       "      <th>Survived</th>\n",
       "      <th>Pclass</th>\n",
       "      <th>Sex</th>\n",
       "      <th>Age</th>\n",
       "      <th>SibSp</th>\n",
       "      <th>Parch</th>\n",
       "      <th>Embarked</th>\n",
       "    </tr>\n",
       "  </thead>\n",
       "  <tbody>\n",
       "    <tr>\n",
       "      <th>0</th>\n",
       "      <td>0</td>\n",
       "      <td>3</td>\n",
       "      <td>male</td>\n",
       "      <td>34.5</td>\n",
       "      <td>0</td>\n",
       "      <td>0</td>\n",
       "      <td>Q</td>\n",
       "    </tr>\n",
       "    <tr>\n",
       "      <th>1</th>\n",
       "      <td>1</td>\n",
       "      <td>3</td>\n",
       "      <td>female</td>\n",
       "      <td>47.0</td>\n",
       "      <td>1</td>\n",
       "      <td>0</td>\n",
       "      <td>S</td>\n",
       "    </tr>\n",
       "    <tr>\n",
       "      <th>2</th>\n",
       "      <td>0</td>\n",
       "      <td>2</td>\n",
       "      <td>male</td>\n",
       "      <td>62.0</td>\n",
       "      <td>0</td>\n",
       "      <td>0</td>\n",
       "      <td>Q</td>\n",
       "    </tr>\n",
       "    <tr>\n",
       "      <th>3</th>\n",
       "      <td>0</td>\n",
       "      <td>3</td>\n",
       "      <td>male</td>\n",
       "      <td>27.0</td>\n",
       "      <td>0</td>\n",
       "      <td>0</td>\n",
       "      <td>S</td>\n",
       "    </tr>\n",
       "    <tr>\n",
       "      <th>4</th>\n",
       "      <td>1</td>\n",
       "      <td>3</td>\n",
       "      <td>female</td>\n",
       "      <td>22.0</td>\n",
       "      <td>1</td>\n",
       "      <td>1</td>\n",
       "      <td>S</td>\n",
       "    </tr>\n",
       "  </tbody>\n",
       "</table>\n",
       "</div>"
      ],
      "text/plain": [
       "   Survived  Pclass     Sex   Age  SibSp  Parch Embarked\n",
       "0         0       3    male  34.5      0      0        Q\n",
       "1         1       3  female  47.0      1      0        S\n",
       "2         0       2    male  62.0      0      0        Q\n",
       "3         0       3    male  27.0      0      0        S\n",
       "4         1       3  female  22.0      1      1        S"
      ]
     },
     "execution_count": 16,
     "metadata": {},
     "output_type": "execute_result"
    }
   ],
   "source": [
    "df.head(5)"
   ]
  },
  {
   "cell_type": "code",
   "execution_count": 17,
   "id": "arabic-destiny",
   "metadata": {
    "execution": {
     "iopub.execute_input": "2021-05-20T04:39:53.906295Z",
     "iopub.status.busy": "2021-05-20T04:39:53.905621Z",
     "iopub.status.idle": "2021-05-20T04:39:53.908909Z",
     "shell.execute_reply": "2021-05-20T04:39:53.909487Z"
    },
    "papermill": {
     "duration": 0.045508,
     "end_time": "2021-05-20T04:39:53.909654",
     "exception": false,
     "start_time": "2021-05-20T04:39:53.864146",
     "status": "completed"
    },
    "tags": []
   },
   "outputs": [
    {
     "data": {
      "text/plain": [
       "Survived     0\n",
       "Pclass       0\n",
       "Sex          0\n",
       "Age         86\n",
       "SibSp        0\n",
       "Parch        0\n",
       "Embarked     0\n",
       "dtype: int64"
      ]
     },
     "execution_count": 17,
     "metadata": {},
     "output_type": "execute_result"
    }
   ],
   "source": [
    "df.isnull().sum()"
   ]
  },
  {
   "cell_type": "code",
   "execution_count": 18,
   "id": "confidential-standard",
   "metadata": {
    "execution": {
     "iopub.execute_input": "2021-05-20T04:39:53.983851Z",
     "iopub.status.busy": "2021-05-20T04:39:53.983196Z",
     "iopub.status.idle": "2021-05-20T04:39:53.986474Z",
     "shell.execute_reply": "2021-05-20T04:39:53.985924Z"
    },
    "papermill": {
     "duration": 0.04419,
     "end_time": "2021-05-20T04:39:53.986613",
     "exception": false,
     "start_time": "2021-05-20T04:39:53.942423",
     "status": "completed"
    },
    "tags": []
   },
   "outputs": [],
   "source": [
    "#filling the missing values in Age\n",
    "df['Age']  =df['Age'].fillna(df['Age'].mean())"
   ]
  },
  {
   "cell_type": "code",
   "execution_count": 19,
   "id": "geographic-boundary",
   "metadata": {
    "execution": {
     "iopub.execute_input": "2021-05-20T04:39:54.063308Z",
     "iopub.status.busy": "2021-05-20T04:39:54.062422Z",
     "iopub.status.idle": "2021-05-20T04:39:54.065887Z",
     "shell.execute_reply": "2021-05-20T04:39:54.066416Z"
    },
    "papermill": {
     "duration": 0.047138,
     "end_time": "2021-05-20T04:39:54.066629",
     "exception": false,
     "start_time": "2021-05-20T04:39:54.019491",
     "status": "completed"
    },
    "tags": []
   },
   "outputs": [
    {
     "data": {
      "text/plain": [
       "Survived    0\n",
       "Pclass      0\n",
       "Sex         0\n",
       "Age         0\n",
       "SibSp       0\n",
       "Parch       0\n",
       "Embarked    0\n",
       "dtype: int64"
      ]
     },
     "execution_count": 19,
     "metadata": {},
     "output_type": "execute_result"
    }
   ],
   "source": [
    "df.isnull().sum()"
   ]
  },
  {
   "cell_type": "code",
   "execution_count": 20,
   "id": "distant-error",
   "metadata": {
    "execution": {
     "iopub.execute_input": "2021-05-20T04:39:54.144171Z",
     "iopub.status.busy": "2021-05-20T04:39:54.143408Z",
     "iopub.status.idle": "2021-05-20T04:39:54.151744Z",
     "shell.execute_reply": "2021-05-20T04:39:54.151114Z"
    },
    "papermill": {
     "duration": 0.04949,
     "end_time": "2021-05-20T04:39:54.151891",
     "exception": false,
     "start_time": "2021-05-20T04:39:54.102401",
     "status": "completed"
    },
    "tags": []
   },
   "outputs": [
    {
     "name": "stdout",
     "output_type": "stream",
     "text": [
      "['male' 'female']\n",
      "['Q' 'S' 'C']\n"
     ]
    }
   ],
   "source": [
    "#converting categorical value to numeric\n",
    "print(df['Sex'].unique())\n",
    "print(df['Embarked'].unique())\n",
    "\n"
   ]
  },
  {
   "cell_type": "code",
   "execution_count": 21,
   "id": "black-payroll",
   "metadata": {
    "execution": {
     "iopub.execute_input": "2021-05-20T04:39:54.227741Z",
     "iopub.status.busy": "2021-05-20T04:39:54.226858Z",
     "iopub.status.idle": "2021-05-20T04:39:54.376833Z",
     "shell.execute_reply": "2021-05-20T04:39:54.376265Z"
    },
    "papermill": {
     "duration": 0.191224,
     "end_time": "2021-05-20T04:39:54.377012",
     "exception": false,
     "start_time": "2021-05-20T04:39:54.185788",
     "status": "completed"
    },
    "tags": []
   },
   "outputs": [],
   "source": [
    "sex = ['male', 'female']\n",
    "embarked = ['Q', 'S', 'C']\n",
    "from sklearn.preprocessing import LabelEncoder\n",
    "le = LabelEncoder()\n",
    "le = le.fit(sex)\n",
    "df['Sex'] = le.fit_transform(df['Sex'].astype(str))\n",
    "\n",
    "le = le.fit(embarked)\n",
    "df['Embarked'] = le.fit_transform(df['Embarked'].astype(str))"
   ]
  },
  {
   "cell_type": "code",
   "execution_count": 22,
   "id": "nearby-qualification",
   "metadata": {
    "execution": {
     "iopub.execute_input": "2021-05-20T04:39:54.458623Z",
     "iopub.status.busy": "2021-05-20T04:39:54.453764Z",
     "iopub.status.idle": "2021-05-20T04:39:54.461888Z",
     "shell.execute_reply": "2021-05-20T04:39:54.462452Z"
    },
    "papermill": {
     "duration": 0.051364,
     "end_time": "2021-05-20T04:39:54.462704",
     "exception": false,
     "start_time": "2021-05-20T04:39:54.411340",
     "status": "completed"
    },
    "tags": []
   },
   "outputs": [
    {
     "data": {
      "text/html": [
       "<div>\n",
       "<style scoped>\n",
       "    .dataframe tbody tr th:only-of-type {\n",
       "        vertical-align: middle;\n",
       "    }\n",
       "\n",
       "    .dataframe tbody tr th {\n",
       "        vertical-align: top;\n",
       "    }\n",
       "\n",
       "    .dataframe thead th {\n",
       "        text-align: right;\n",
       "    }\n",
       "</style>\n",
       "<table border=\"1\" class=\"dataframe\">\n",
       "  <thead>\n",
       "    <tr style=\"text-align: right;\">\n",
       "      <th></th>\n",
       "      <th>Survived</th>\n",
       "      <th>Pclass</th>\n",
       "      <th>Sex</th>\n",
       "      <th>Age</th>\n",
       "      <th>SibSp</th>\n",
       "      <th>Parch</th>\n",
       "      <th>Embarked</th>\n",
       "    </tr>\n",
       "  </thead>\n",
       "  <tbody>\n",
       "    <tr>\n",
       "      <th>0</th>\n",
       "      <td>0</td>\n",
       "      <td>3</td>\n",
       "      <td>1</td>\n",
       "      <td>34.5</td>\n",
       "      <td>0</td>\n",
       "      <td>0</td>\n",
       "      <td>1</td>\n",
       "    </tr>\n",
       "    <tr>\n",
       "      <th>1</th>\n",
       "      <td>1</td>\n",
       "      <td>3</td>\n",
       "      <td>0</td>\n",
       "      <td>47.0</td>\n",
       "      <td>1</td>\n",
       "      <td>0</td>\n",
       "      <td>2</td>\n",
       "    </tr>\n",
       "    <tr>\n",
       "      <th>2</th>\n",
       "      <td>0</td>\n",
       "      <td>2</td>\n",
       "      <td>1</td>\n",
       "      <td>62.0</td>\n",
       "      <td>0</td>\n",
       "      <td>0</td>\n",
       "      <td>1</td>\n",
       "    </tr>\n",
       "    <tr>\n",
       "      <th>3</th>\n",
       "      <td>0</td>\n",
       "      <td>3</td>\n",
       "      <td>1</td>\n",
       "      <td>27.0</td>\n",
       "      <td>0</td>\n",
       "      <td>0</td>\n",
       "      <td>2</td>\n",
       "    </tr>\n",
       "    <tr>\n",
       "      <th>4</th>\n",
       "      <td>1</td>\n",
       "      <td>3</td>\n",
       "      <td>0</td>\n",
       "      <td>22.0</td>\n",
       "      <td>1</td>\n",
       "      <td>1</td>\n",
       "      <td>2</td>\n",
       "    </tr>\n",
       "  </tbody>\n",
       "</table>\n",
       "</div>"
      ],
      "text/plain": [
       "   Survived  Pclass  Sex   Age  SibSp  Parch  Embarked\n",
       "0         0       3    1  34.5      0      0         1\n",
       "1         1       3    0  47.0      1      0         2\n",
       "2         0       2    1  62.0      0      0         1\n",
       "3         0       3    1  27.0      0      0         2\n",
       "4         1       3    0  22.0      1      1         2"
      ]
     },
     "execution_count": 22,
     "metadata": {},
     "output_type": "execute_result"
    }
   ],
   "source": [
    "df.head(5)"
   ]
  },
  {
   "cell_type": "code",
   "execution_count": 23,
   "id": "proper-checkout",
   "metadata": {
    "execution": {
     "iopub.execute_input": "2021-05-20T04:39:54.537601Z",
     "iopub.status.busy": "2021-05-20T04:39:54.536972Z",
     "iopub.status.idle": "2021-05-20T04:39:54.545875Z",
     "shell.execute_reply": "2021-05-20T04:39:54.545244Z"
    },
    "papermill": {
     "duration": 0.047268,
     "end_time": "2021-05-20T04:39:54.546051",
     "exception": false,
     "start_time": "2021-05-20T04:39:54.498783",
     "status": "completed"
    },
    "tags": []
   },
   "outputs": [],
   "source": [
    "x = df.drop('Survived', axis =1)\n",
    "y = df['Survived']"
   ]
  },
  {
   "cell_type": "code",
   "execution_count": 24,
   "id": "elegant-tennis",
   "metadata": {
    "execution": {
     "iopub.execute_input": "2021-05-20T04:39:54.635156Z",
     "iopub.status.busy": "2021-05-20T04:39:54.634427Z",
     "iopub.status.idle": "2021-05-20T04:39:54.638003Z",
     "shell.execute_reply": "2021-05-20T04:39:54.638713Z"
    },
    "papermill": {
     "duration": 0.055896,
     "end_time": "2021-05-20T04:39:54.638982",
     "exception": false,
     "start_time": "2021-05-20T04:39:54.583086",
     "status": "completed"
    },
    "tags": []
   },
   "outputs": [
    {
     "name": "stdout",
     "output_type": "stream",
     "text": [
      "   Pclass  Sex       Age  SibSp     Parch  Embarked\n",
      "0     1.0  1.0  0.452723  0.000  0.000000       0.5\n",
      "1     1.0  0.0  0.617566  0.125  0.000000       1.0\n",
      "2     0.5  1.0  0.815377  0.000  0.000000       0.5\n",
      "3     1.0  1.0  0.353818  0.000  0.000000       1.0\n",
      "4     1.0  0.0  0.287881  0.125  0.111111       1.0\n"
     ]
    }
   ],
   "source": [
    "#scaling x in range of (0,1)\n",
    "from sklearn.preprocessing import MinMaxScaler\n",
    "scaler = MinMaxScaler(feature_range = (0,1))\n",
    "X = scaler.fit_transform(x)\n",
    "X = pd.DataFrame(X,columns = x.columns)\n",
    "print(X.head(5))\n"
   ]
  },
  {
   "cell_type": "code",
   "execution_count": 25,
   "id": "asian-platinum",
   "metadata": {
    "execution": {
     "iopub.execute_input": "2021-05-20T04:39:54.718756Z",
     "iopub.status.busy": "2021-05-20T04:39:54.717769Z",
     "iopub.status.idle": "2021-05-20T04:39:54.788229Z",
     "shell.execute_reply": "2021-05-20T04:39:54.787619Z"
    },
    "papermill": {
     "duration": 0.111239,
     "end_time": "2021-05-20T04:39:54.788429",
     "exception": false,
     "start_time": "2021-05-20T04:39:54.677190",
     "status": "completed"
    },
    "tags": []
   },
   "outputs": [],
   "source": [
    "from sklearn.model_selection import train_test_split\n",
    "x_train, x_test, y_train, y_test = train_test_split(X,y, test_size = 0.2, random_state = 0)"
   ]
  },
  {
   "cell_type": "code",
   "execution_count": 26,
   "id": "champion-north",
   "metadata": {
    "execution": {
     "iopub.execute_input": "2021-05-20T04:39:54.867617Z",
     "iopub.status.busy": "2021-05-20T04:39:54.866823Z",
     "iopub.status.idle": "2021-05-20T04:39:54.870463Z",
     "shell.execute_reply": "2021-05-20T04:39:54.870984Z"
    },
    "papermill": {
     "duration": 0.046204,
     "end_time": "2021-05-20T04:39:54.871182",
     "exception": false,
     "start_time": "2021-05-20T04:39:54.824978",
     "status": "completed"
    },
    "tags": []
   },
   "outputs": [
    {
     "name": "stdout",
     "output_type": "stream",
     "text": [
      "(334, 6)\n",
      "(84, 6)\n",
      "\n",
      "\n",
      "(334,)\n",
      "(84,)\n"
     ]
    }
   ],
   "source": [
    "print(x_train.shape)\n",
    "print(x_test.shape)\n",
    "\n",
    "print('\\n')\n",
    "\n",
    "print(y_train.shape)\n",
    "print(y_test.shape)"
   ]
  },
  {
   "cell_type": "code",
   "execution_count": 27,
   "id": "twenty-relationship",
   "metadata": {
    "execution": {
     "iopub.execute_input": "2021-05-20T04:39:54.952375Z",
     "iopub.status.busy": "2021-05-20T04:39:54.951673Z",
     "iopub.status.idle": "2021-05-20T04:39:55.081097Z",
     "shell.execute_reply": "2021-05-20T04:39:55.080462Z"
    },
    "papermill": {
     "duration": 0.172516,
     "end_time": "2021-05-20T04:39:55.081265",
     "exception": false,
     "start_time": "2021-05-20T04:39:54.908749",
     "status": "completed"
    },
    "tags": []
   },
   "outputs": [],
   "source": [
    "from sklearn.linear_model import LogisticRegression\n",
    "model = LogisticRegression()\n",
    "model.fit(x_train, y_train)\n",
    "y_predictions = model.predict(x_test)"
   ]
  },
  {
   "cell_type": "code",
   "execution_count": 28,
   "id": "nuclear-reviewer",
   "metadata": {
    "execution": {
     "iopub.execute_input": "2021-05-20T04:39:55.171434Z",
     "iopub.status.busy": "2021-05-20T04:39:55.169190Z",
     "iopub.status.idle": "2021-05-20T04:39:55.181956Z",
     "shell.execute_reply": "2021-05-20T04:39:55.181333Z"
    },
    "papermill": {
     "duration": 0.063361,
     "end_time": "2021-05-20T04:39:55.182122",
     "exception": false,
     "start_time": "2021-05-20T04:39:55.118761",
     "status": "completed"
    },
    "tags": []
   },
   "outputs": [
    {
     "name": "stdout",
     "output_type": "stream",
     "text": [
      "confusion matrix :  [[45  0]\n",
      " [ 0 39]]\n",
      "\n",
      "\n",
      "classification report  :                precision    recall  f1-score   support\n",
      "\n",
      "           0       1.00      1.00      1.00        45\n",
      "           1       1.00      1.00      1.00        39\n",
      "\n",
      "    accuracy                           1.00        84\n",
      "   macro avg       1.00      1.00      1.00        84\n",
      "weighted avg       1.00      1.00      1.00        84\n",
      "\n",
      "\n",
      "\n",
      "Accuracy score :  1.0\n"
     ]
    }
   ],
   "source": [
    "from sklearn.metrics import accuracy_score, confusion_matrix, classification_report\n",
    "print(\"confusion matrix : \", confusion_matrix(y_test, y_predictions))\n",
    "print('\\n')\n",
    "print(\"classification report  : \", classification_report(y_test, y_predictions))\n",
    "print('\\n')\n",
    "print(\"Accuracy score : \", accuracy_score(y_test, y_predictions))"
   ]
  }
 ],
 "metadata": {
  "kernelspec": {
   "display_name": "Python 3 (ipykernel)",
   "language": "python",
   "name": "python3"
  },
  "language_info": {
   "codemirror_mode": {
    "name": "ipython",
    "version": 3
   },
   "file_extension": ".py",
   "mimetype": "text/x-python",
   "name": "python",
   "nbconvert_exporter": "python",
   "pygments_lexer": "ipython3",
   "version": "3.9.12"
  },
  "papermill": {
   "default_parameters": {},
   "duration": 17.151838,
   "end_time": "2021-05-20T04:39:57.136708",
   "environment_variables": {},
   "exception": null,
   "input_path": "__notebook__.ipynb",
   "output_path": "__notebook__.ipynb",
   "parameters": {},
   "start_time": "2021-05-20T04:39:39.984870",
   "version": "2.3.3"
  }
 },
 "nbformat": 4,
 "nbformat_minor": 5
}
